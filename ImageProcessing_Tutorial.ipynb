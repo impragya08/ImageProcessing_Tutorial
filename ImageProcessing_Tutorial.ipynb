{
 "cells": [
  {
   "cell_type": "code",
   "execution_count": 5,
   "id": "ccf855e3",
   "metadata": {},
   "outputs": [
    {
     "name": "stdout",
     "output_type": "stream",
     "text": [
      "The version of cv is 4.7.0\n"
     ]
    }
   ],
   "source": [
    "#Importing CV2-Open CV module\n",
    "import cv2\n",
    "print(\"The version of cv is\",cv2.__version__)"
   ]
  },
  {
   "cell_type": "code",
   "execution_count": 12,
   "id": "1c0a18df",
   "metadata": {},
   "outputs": [],
   "source": [
    "#reading an image from a file. \n",
    "path= r\"\"\"C:\\Users\\user\\Workshop_Pictures\"\"\"\n",
    "img_name= \"flower.jpg\"\n",
    "x= cv2.imread(path+\"\\\\\"+img_name)\n",
    "# Width:400 Height:400 \n",
    "#It takes input and gives an output\n",
    "y= cv2.resize(x,(400,400))\n",
    "cv2.imshow(\"This is the first Image \", y)\n",
    "cv2.waitKey(0)\n",
    "#If you have multiple windows open, this function can be used to close all of them at once. \n",
    "cv2.destroyAllWindows()"
   ]
  },
  {
   "cell_type": "code",
   "execution_count": 13,
   "id": "b306d3ef",
   "metadata": {},
   "outputs": [],
   "source": [
    "#Picture Slideshow\n",
    "# to bring all pictures in list\n",
    "import os\n",
    "a= os.listdir(path)"
   ]
  },
  {
   "cell_type": "code",
   "execution_count": 14,
   "id": "f0bfcfde",
   "metadata": {},
   "outputs": [],
   "source": [
    "#Accessing each pictures of the file\n",
    "for i in a:\n",
    "    x= cv2.imread(path+\"\\\\\"+i)\n",
    "    y= cv2.resize(x,(400,400))\n",
    "    cv2.imshow(\"This is the first Image \", y)\n",
    "    cv2.waitKey(0)\n",
    "    cv2.destroyAllWindows()"
   ]
  },
  {
   "cell_type": "code",
   "execution_count": 15,
   "id": "138ef347",
   "metadata": {},
   "outputs": [],
   "source": [
    "path= r\"\"\"C:\\Users\\user\\Workshop_Pictures\"\"\"\n",
    "img_name= \"sunset.jpg\"\n",
    "x= cv2.imread(path+\"\\\\\"+img_name)\n",
    "y= cv2.resize(x,(400,400))\n",
    "#Converting image to gray scale\n",
    "#Gray scale image is 8 bits=2^8(0-255)\n",
    "z= cv2.cvtColor(y,cv2.COLOR_BGR2GRAY)\n",
    "cv2.imshow(\"This is the first Image \", z)\n",
    "cv2.waitKey(0)\n",
    "#If you have multiple windows open, this function can be used to close all of them at once. \n",
    "cv2.destroyAllWindows()"
   ]
  },
  {
   "cell_type": "code",
   "execution_count": 19,
   "id": "7b21d915",
   "metadata": {},
   "outputs": [],
   "source": [
    "import numpy as np\n",
    "G= cv2.cvtColor(y,cv2.COLOR_BGR2GRAY)\n",
    "G_copy=np.copy(G)\n",
    "#Just selecting the sun of the image\n",
    "G_copy[G_copy[:,:]<180]=0\n",
    "cv2.imshow(\"This is the first Image \", G_copy)\n",
    "cv2.waitKey(0) \n",
    "cv2.destroyAllWindows()"
   ]
  },
  {
   "cell_type": "code",
   "execution_count": 34,
   "id": "b9e2ceeb",
   "metadata": {},
   "outputs": [],
   "source": [
    "path= r\"\"\"C:\\Users\\user\\Workshop_Pictures\"\"\"\n",
    "img_name= \"whiteflower.jpg\"\n",
    "x= cv2.imread(path+\"\\\\\"+img_name)\n",
    "y= cv2.resize(x,(400,400))\n",
    "G_copy=np.copy(y)\n",
    "#Extracting yellow part from the flower image\n",
    "G_copy[(G_copy[:,:,0]>50)  | (G_copy[:,:,1]<150)| (G_copy[:,:,2]<150)]=0   #Blue,Green,Red\n",
    "cv2.imshow(\"This is the first Image \", G_copy)\n",
    "cv2.waitKey(0) \n",
    "cv2.destroyAllWindows()\n"
   ]
  },
  {
   "cell_type": "code",
   "execution_count": 36,
   "id": "f18ccb3a",
   "metadata": {},
   "outputs": [],
   "source": [
    "path= r\"\"\"C:\\Users\\user\\Workshop_Pictures\"\"\"\n",
    "img_name= \"redbottle.jpg\"\n",
    "x= cv2.imread(path+\"\\\\\"+img_name)\n",
    "y= cv2.resize(x,(400,400))\n",
    "G_copy=np.copy(y)\n",
    "#Extracting yellow part from the flower image\n",
    "G_copy[(G_copy[:,:,0]>100)  | (G_copy[:,:,1]>100)| (G_copy[:,:,2]<150)]=0   #Blue,Green,Red\n",
    "cv2.imshow(\"This is the red bottle Image \", G_copy)\n",
    "cv2.waitKey(0) \n",
    "cv2.destroyAllWindows()"
   ]
  }
 ],
 "metadata": {
  "kernelspec": {
   "display_name": "Python 3 (ipykernel)",
   "language": "python",
   "name": "python3"
  },
  "language_info": {
   "codemirror_mode": {
    "name": "ipython",
    "version": 3
   },
   "file_extension": ".py",
   "mimetype": "text/x-python",
   "name": "python",
   "nbconvert_exporter": "python",
   "pygments_lexer": "ipython3",
   "version": "3.10.9"
  }
 },
 "nbformat": 4,
 "nbformat_minor": 5
}
